{
 "cells": [
  {
   "cell_type": "code",
   "execution_count": 86,
   "id": "6685b7f0",
   "metadata": {},
   "outputs": [],
   "source": [
    "import pandas as pd\n",
    "import numpy as np\n",
    "\n",
    "from scipy.stats import beta\n",
    "\n",
    "import pylab as plt\n",
    "\n",
    "from mpmath import betainc   # integral de beta"
   ]
  },
  {
   "cell_type": "code",
   "execution_count": 3,
   "id": "b58d118a",
   "metadata": {},
   "outputs": [],
   "source": [
    "control = pd.read_csv(\"control.csv\")"
   ]
  },
  {
   "cell_type": "code",
   "execution_count": 6,
   "id": "27d85f24",
   "metadata": {},
   "outputs": [],
   "source": [
    "tamaño = pd.read_csv(\"tamaño.csv\")"
   ]
  },
  {
   "cell_type": "code",
   "execution_count": 9,
   "id": "d92fd54c",
   "metadata": {},
   "outputs": [],
   "source": [
    "control[\"Tiempo_cat\"] = [\"lento\" if i >= 81 else \"rápido\" for i in control.Tiempo]"
   ]
  },
  {
   "cell_type": "code",
   "execution_count": 8,
   "id": "efe1e30c",
   "metadata": {},
   "outputs": [
    {
     "data": {
      "text/plain": [
       "81.0"
      ]
     },
     "execution_count": 8,
     "metadata": {},
     "output_type": "execute_result"
    }
   ],
   "source": [
    "control.Tiempo.mean() # media tiempo control para categorizar"
   ]
  },
  {
   "cell_type": "code",
   "execution_count": 12,
   "id": "95cc78b3",
   "metadata": {},
   "outputs": [],
   "source": [
    "tamaño[\"Tiempo_cat\"] = [\"lento\" if i >= 81 else \"rápido\" for i in tamaño.Tiempo]"
   ]
  },
  {
   "cell_type": "markdown",
   "id": "485f6961",
   "metadata": {},
   "source": [
    "## Variables Control"
   ]
  },
  {
   "cell_type": "code",
   "execution_count": 77,
   "id": "0e680694",
   "metadata": {},
   "outputs": [
    {
     "data": {
      "text/html": [
       "<div>\n",
       "<style scoped>\n",
       "    .dataframe tbody tr th:only-of-type {\n",
       "        vertical-align: middle;\n",
       "    }\n",
       "\n",
       "    .dataframe tbody tr th {\n",
       "        vertical-align: top;\n",
       "    }\n",
       "\n",
       "    .dataframe thead th {\n",
       "        text-align: right;\n",
       "    }\n",
       "</style>\n",
       "<table border=\"1\" class=\"dataframe\">\n",
       "  <thead>\n",
       "    <tr style=\"text-align: right;\">\n",
       "      <th></th>\n",
       "      <th>Prueba</th>\n",
       "      <th>Scroll</th>\n",
       "      <th>Exito</th>\n",
       "      <th>Ruta_1_Reco</th>\n",
       "      <th>Ruta_2_Quizz</th>\n",
       "      <th>Tiempo</th>\n",
       "      <th>Tiempo_cat</th>\n",
       "    </tr>\n",
       "  </thead>\n",
       "  <tbody>\n",
       "    <tr>\n",
       "      <th>0</th>\n",
       "      <td>Test_1</td>\n",
       "      <td>si</td>\n",
       "      <td>no</td>\n",
       "      <td>si</td>\n",
       "      <td>no</td>\n",
       "      <td>180</td>\n",
       "      <td>lento</td>\n",
       "    </tr>\n",
       "    <tr>\n",
       "      <th>1</th>\n",
       "      <td>Test_2</td>\n",
       "      <td>no</td>\n",
       "      <td>si</td>\n",
       "      <td>si</td>\n",
       "      <td>no</td>\n",
       "      <td>60</td>\n",
       "      <td>rápido</td>\n",
       "    </tr>\n",
       "    <tr>\n",
       "      <th>2</th>\n",
       "      <td>Test_3</td>\n",
       "      <td>si</td>\n",
       "      <td>si</td>\n",
       "      <td>no</td>\n",
       "      <td>si</td>\n",
       "      <td>75</td>\n",
       "      <td>rápido</td>\n",
       "    </tr>\n",
       "    <tr>\n",
       "      <th>3</th>\n",
       "      <td>Test_4</td>\n",
       "      <td>si</td>\n",
       "      <td>si</td>\n",
       "      <td>no</td>\n",
       "      <td>si</td>\n",
       "      <td>47</td>\n",
       "      <td>rápido</td>\n",
       "    </tr>\n",
       "    <tr>\n",
       "      <th>4</th>\n",
       "      <td>Test_5</td>\n",
       "      <td>si</td>\n",
       "      <td>si</td>\n",
       "      <td>no</td>\n",
       "      <td>si</td>\n",
       "      <td>48</td>\n",
       "      <td>rápido</td>\n",
       "    </tr>\n",
       "    <tr>\n",
       "      <th>5</th>\n",
       "      <td>Test_6</td>\n",
       "      <td>si</td>\n",
       "      <td>no</td>\n",
       "      <td>no</td>\n",
       "      <td>no</td>\n",
       "      <td>101</td>\n",
       "      <td>lento</td>\n",
       "    </tr>\n",
       "    <tr>\n",
       "      <th>6</th>\n",
       "      <td>Test_7</td>\n",
       "      <td>no</td>\n",
       "      <td>si</td>\n",
       "      <td>si</td>\n",
       "      <td>no</td>\n",
       "      <td>65</td>\n",
       "      <td>rápido</td>\n",
       "    </tr>\n",
       "    <tr>\n",
       "      <th>7</th>\n",
       "      <td>Test_8</td>\n",
       "      <td>si</td>\n",
       "      <td>si</td>\n",
       "      <td>no</td>\n",
       "      <td>si</td>\n",
       "      <td>41</td>\n",
       "      <td>rápido</td>\n",
       "    </tr>\n",
       "    <tr>\n",
       "      <th>8</th>\n",
       "      <td>Test_9</td>\n",
       "      <td>si</td>\n",
       "      <td>no</td>\n",
       "      <td>no</td>\n",
       "      <td>si</td>\n",
       "      <td>108</td>\n",
       "      <td>lento</td>\n",
       "    </tr>\n",
       "    <tr>\n",
       "      <th>9</th>\n",
       "      <td>Test_10</td>\n",
       "      <td>si</td>\n",
       "      <td>si</td>\n",
       "      <td>no</td>\n",
       "      <td>si</td>\n",
       "      <td>85</td>\n",
       "      <td>lento</td>\n",
       "    </tr>\n",
       "  </tbody>\n",
       "</table>\n",
       "</div>"
      ],
      "text/plain": [
       "    Prueba Scroll Exito Ruta_1_Reco Ruta_2_Quizz  Tiempo Tiempo_cat\n",
       "0   Test_1     si    no          si           no     180      lento\n",
       "1   Test_2     no    si          si           no      60     rápido\n",
       "2   Test_3     si    si          no           si      75     rápido\n",
       "3   Test_4     si    si          no           si      47     rápido\n",
       "4   Test_5     si    si          no           si      48     rápido\n",
       "5   Test_6     si    no          no           no     101      lento\n",
       "6   Test_7     no    si          si           no      65     rápido\n",
       "7   Test_8     si    si          no           si      41     rápido\n",
       "8   Test_9     si    no          no           si     108      lento\n",
       "9  Test_10     si    si          no           si      85      lento"
      ]
     },
     "execution_count": 77,
     "metadata": {},
     "output_type": "execute_result"
    }
   ],
   "source": [
    "control.head(10)"
   ]
  },
  {
   "cell_type": "code",
   "execution_count": 17,
   "id": "681d64c2",
   "metadata": {},
   "outputs": [],
   "source": [
    "control_exito_no = control[control.Exito == \"no\"]"
   ]
  },
  {
   "cell_type": "code",
   "execution_count": 18,
   "id": "0ce688bb",
   "metadata": {},
   "outputs": [],
   "source": [
    "control_exito_si = control[control.Exito == \"si\"]"
   ]
  },
  {
   "cell_type": "code",
   "execution_count": 20,
   "id": "5064f1d8",
   "metadata": {},
   "outputs": [],
   "source": [
    "control_tiempo_rapido = control[control.Tiempo_cat == \"rápido\"]"
   ]
  },
  {
   "cell_type": "code",
   "execution_count": 21,
   "id": "ab3f841b",
   "metadata": {},
   "outputs": [],
   "source": [
    "control_tiempo_lento = control[control.Tiempo_cat == \"lento\"]"
   ]
  },
  {
   "cell_type": "code",
   "execution_count": 24,
   "id": "4f797e89",
   "metadata": {},
   "outputs": [],
   "source": [
    "control_ruta1_no = control[control[\"Ruta_1_Reco\"] == \"no\"]"
   ]
  },
  {
   "cell_type": "code",
   "execution_count": 25,
   "id": "08c76d1c",
   "metadata": {},
   "outputs": [],
   "source": [
    "control_ruta1_si = control[control[\"Ruta_1_Reco\"] == \"si\"]"
   ]
  },
  {
   "cell_type": "code",
   "execution_count": 26,
   "id": "37e68adb",
   "metadata": {},
   "outputs": [],
   "source": [
    "control_ruta2_no = control[control[\"Ruta_2_Quizz\"] == \"no\"]"
   ]
  },
  {
   "cell_type": "code",
   "execution_count": 28,
   "id": "32ab4b10",
   "metadata": {},
   "outputs": [],
   "source": [
    "control_ruta2_si = control[control[\"Ruta_2_Quizz\"] == \"si\"]"
   ]
  },
  {
   "cell_type": "code",
   "execution_count": 30,
   "id": "be51941b",
   "metadata": {},
   "outputs": [],
   "source": [
    "control_scroll_si = control[control.Scroll == \"si\"]"
   ]
  },
  {
   "cell_type": "code",
   "execution_count": 31,
   "id": "45803b46",
   "metadata": {},
   "outputs": [],
   "source": [
    "controll_scroll_no = control[control.Scroll == \"no\"]"
   ]
  },
  {
   "cell_type": "code",
   "execution_count": 45,
   "id": "45de3972",
   "metadata": {},
   "outputs": [],
   "source": [
    "beta_control_scroll = beta(len(control_scroll_si) + 1, len(controll_scroll_no) + 1)"
   ]
  },
  {
   "cell_type": "code",
   "execution_count": 47,
   "id": "9632b263",
   "metadata": {},
   "outputs": [],
   "source": [
    "beta_control_exito = beta(len(control_exito_si) + 1, len(control_exito_no) + 1)"
   ]
  },
  {
   "cell_type": "code",
   "execution_count": 48,
   "id": "b9ccd66f",
   "metadata": {},
   "outputs": [],
   "source": [
    "beta_control_tiempo = beta(len(control_tiempo_rapido) + 1, len(control_tiempo_lento) + 1)"
   ]
  },
  {
   "cell_type": "code",
   "execution_count": 50,
   "id": "0f02c450",
   "metadata": {},
   "outputs": [],
   "source": [
    "beta_control_ruta1 = beta(len(control_ruta1_si) + 1, len(control_ruta1_no) + 1)"
   ]
  },
  {
   "cell_type": "code",
   "execution_count": 51,
   "id": "404b22b3",
   "metadata": {},
   "outputs": [],
   "source": [
    "beta_control_ruta2 = beta(len(control_ruta2_si) + 1, len(control_ruta2_no) + 1)"
   ]
  },
  {
   "cell_type": "markdown",
   "id": "0d309459",
   "metadata": {},
   "source": [
    "## Variables tamaño"
   ]
  },
  {
   "cell_type": "code",
   "execution_count": 38,
   "id": "63705342",
   "metadata": {},
   "outputs": [
    {
     "data": {
      "text/html": [
       "<div>\n",
       "<style scoped>\n",
       "    .dataframe tbody tr th:only-of-type {\n",
       "        vertical-align: middle;\n",
       "    }\n",
       "\n",
       "    .dataframe tbody tr th {\n",
       "        vertical-align: top;\n",
       "    }\n",
       "\n",
       "    .dataframe thead th {\n",
       "        text-align: right;\n",
       "    }\n",
       "</style>\n",
       "<table border=\"1\" class=\"dataframe\">\n",
       "  <thead>\n",
       "    <tr style=\"text-align: right;\">\n",
       "      <th></th>\n",
       "      <th>Prueba</th>\n",
       "      <th>Scroll</th>\n",
       "      <th>Exito</th>\n",
       "      <th>Ruta_1_Reco</th>\n",
       "      <th>Ruta_2_Quizz</th>\n",
       "      <th>Tiempo</th>\n",
       "      <th>Tiempo_cat</th>\n",
       "    </tr>\n",
       "  </thead>\n",
       "  <tbody>\n",
       "    <tr>\n",
       "      <th>0</th>\n",
       "      <td>Test_1</td>\n",
       "      <td>si</td>\n",
       "      <td>no</td>\n",
       "      <td>no</td>\n",
       "      <td>no</td>\n",
       "      <td>39</td>\n",
       "      <td>rápido</td>\n",
       "    </tr>\n",
       "    <tr>\n",
       "      <th>1</th>\n",
       "      <td>Test_2</td>\n",
       "      <td>si</td>\n",
       "      <td>si</td>\n",
       "      <td>no</td>\n",
       "      <td>si</td>\n",
       "      <td>60</td>\n",
       "      <td>rápido</td>\n",
       "    </tr>\n",
       "    <tr>\n",
       "      <th>2</th>\n",
       "      <td>Test_3</td>\n",
       "      <td>si</td>\n",
       "      <td>si</td>\n",
       "      <td>no</td>\n",
       "      <td>si</td>\n",
       "      <td>30</td>\n",
       "      <td>rápido</td>\n",
       "    </tr>\n",
       "    <tr>\n",
       "      <th>3</th>\n",
       "      <td>Test_4</td>\n",
       "      <td>no</td>\n",
       "      <td>si</td>\n",
       "      <td>si</td>\n",
       "      <td>no</td>\n",
       "      <td>40</td>\n",
       "      <td>rápido</td>\n",
       "    </tr>\n",
       "    <tr>\n",
       "      <th>4</th>\n",
       "      <td>Test_5</td>\n",
       "      <td>si</td>\n",
       "      <td>si</td>\n",
       "      <td>no</td>\n",
       "      <td>si</td>\n",
       "      <td>38</td>\n",
       "      <td>rápido</td>\n",
       "    </tr>\n",
       "    <tr>\n",
       "      <th>5</th>\n",
       "      <td>Test_6</td>\n",
       "      <td>no</td>\n",
       "      <td>si</td>\n",
       "      <td>si</td>\n",
       "      <td>no</td>\n",
       "      <td>55</td>\n",
       "      <td>rápido</td>\n",
       "    </tr>\n",
       "    <tr>\n",
       "      <th>6</th>\n",
       "      <td>Test_7</td>\n",
       "      <td>si</td>\n",
       "      <td>si</td>\n",
       "      <td>no</td>\n",
       "      <td>si</td>\n",
       "      <td>35</td>\n",
       "      <td>rápido</td>\n",
       "    </tr>\n",
       "    <tr>\n",
       "      <th>7</th>\n",
       "      <td>Test_8</td>\n",
       "      <td>no</td>\n",
       "      <td>si</td>\n",
       "      <td>si</td>\n",
       "      <td>no</td>\n",
       "      <td>90</td>\n",
       "      <td>lento</td>\n",
       "    </tr>\n",
       "    <tr>\n",
       "      <th>8</th>\n",
       "      <td>Test_9</td>\n",
       "      <td>si</td>\n",
       "      <td>si</td>\n",
       "      <td>si</td>\n",
       "      <td>no</td>\n",
       "      <td>60</td>\n",
       "      <td>rápido</td>\n",
       "    </tr>\n",
       "    <tr>\n",
       "      <th>9</th>\n",
       "      <td>Test_10</td>\n",
       "      <td>si</td>\n",
       "      <td>si</td>\n",
       "      <td>no</td>\n",
       "      <td>si</td>\n",
       "      <td>42</td>\n",
       "      <td>rápido</td>\n",
       "    </tr>\n",
       "  </tbody>\n",
       "</table>\n",
       "</div>"
      ],
      "text/plain": [
       "    Prueba Scroll Exito Ruta_1_Reco Ruta_2_Quizz  Tiempo Tiempo_cat\n",
       "0   Test_1     si    no          no           no      39     rápido\n",
       "1   Test_2     si    si          no           si      60     rápido\n",
       "2   Test_3     si    si          no           si      30     rápido\n",
       "3   Test_4     no    si          si           no      40     rápido\n",
       "4   Test_5     si    si          no           si      38     rápido\n",
       "5   Test_6     no    si          si           no      55     rápido\n",
       "6   Test_7     si    si          no           si      35     rápido\n",
       "7   Test_8     no    si          si           no      90      lento\n",
       "8   Test_9     si    si          si           no      60     rápido\n",
       "9  Test_10     si    si          no           si      42     rápido"
      ]
     },
     "execution_count": 38,
     "metadata": {},
     "output_type": "execute_result"
    }
   ],
   "source": [
    "tamaño.head(10)"
   ]
  },
  {
   "cell_type": "code",
   "execution_count": 32,
   "id": "819e9102",
   "metadata": {},
   "outputs": [],
   "source": [
    "tamaño_exito_no = tamaño[tamaño.Exito == \"no\"]"
   ]
  },
  {
   "cell_type": "code",
   "execution_count": 35,
   "id": "f0062dbb",
   "metadata": {},
   "outputs": [],
   "source": [
    "tamaño_exito_si = tamaño[tamaño.Exito == \"si\"]"
   ]
  },
  {
   "cell_type": "code",
   "execution_count": 36,
   "id": "77c74b7e",
   "metadata": {},
   "outputs": [],
   "source": [
    "tamaño_tiempo_rapido = tamaño[tamaño.Tiempo_cat == \"rápido\"]"
   ]
  },
  {
   "cell_type": "code",
   "execution_count": 37,
   "id": "2d7f9d29",
   "metadata": {},
   "outputs": [],
   "source": [
    "tamaño_tiempo_lento = tamaño[tamaño.Tiempo_cat == \"lento\"]"
   ]
  },
  {
   "cell_type": "code",
   "execution_count": 39,
   "id": "0df6dcf6",
   "metadata": {},
   "outputs": [],
   "source": [
    "tamaño_ruta1_no = tamaño[tamaño[\"Ruta_1_Reco\"] == \"no\"]"
   ]
  },
  {
   "cell_type": "code",
   "execution_count": 40,
   "id": "fcb2727e",
   "metadata": {},
   "outputs": [],
   "source": [
    "tamaño_ruta1_si = tamaño[tamaño[\"Ruta_1_Reco\"] == \"si\"]"
   ]
  },
  {
   "cell_type": "code",
   "execution_count": 41,
   "id": "28ebc06d",
   "metadata": {},
   "outputs": [],
   "source": [
    "tamaño_ruta2_no = tamaño[tamaño[\"Ruta_2_Quizz\"] == \"no\"]"
   ]
  },
  {
   "cell_type": "code",
   "execution_count": 42,
   "id": "baeb9223",
   "metadata": {},
   "outputs": [],
   "source": [
    "tamaño_ruta2_si = tamaño[tamaño[\"Ruta_2_Quizz\"] == \"si\"]"
   ]
  },
  {
   "cell_type": "code",
   "execution_count": 53,
   "id": "eae8b544",
   "metadata": {},
   "outputs": [],
   "source": [
    "tamaño_scroll_si = tamaño[tamaño.Scroll == \"si\"]"
   ]
  },
  {
   "cell_type": "code",
   "execution_count": 54,
   "id": "31bbe62e",
   "metadata": {},
   "outputs": [],
   "source": [
    "tamaño_scroll_no = tamaño[tamaño.Scroll == \"no\"]"
   ]
  },
  {
   "cell_type": "code",
   "execution_count": 55,
   "id": "c461e798",
   "metadata": {},
   "outputs": [],
   "source": [
    "beta_tamaño_scroll = beta(len(tamaño_scroll_si) + 1, len(tamaño_scroll_no) + 1)"
   ]
  },
  {
   "cell_type": "code",
   "execution_count": 56,
   "id": "cf44e2a2",
   "metadata": {},
   "outputs": [],
   "source": [
    "beta_tamaño_exito = beta(len(tamaño_exito_si) + 1, len(tamaño_exito_no) + 1)"
   ]
  },
  {
   "cell_type": "code",
   "execution_count": 57,
   "id": "625baebe",
   "metadata": {},
   "outputs": [],
   "source": [
    "beta_tamaño_tiempo = beta(len(tamaño_tiempo_rapido) + 1, len(tamaño_tiempo_lento) + 1)"
   ]
  },
  {
   "cell_type": "code",
   "execution_count": 58,
   "id": "823adabd",
   "metadata": {},
   "outputs": [],
   "source": [
    "beta_tamaño_ruta1 = beta(len(tamaño_ruta1_si) + 1, len(tamaño_ruta1_no) + 1)"
   ]
  },
  {
   "cell_type": "code",
   "execution_count": 59,
   "id": "e7c6fe60",
   "metadata": {},
   "outputs": [],
   "source": [
    "beta_tamaño_ruta2 = beta(len(tamaño_ruta2_si) + 1, len(tamaño_ruta2_no) + 1)"
   ]
  },
  {
   "cell_type": "markdown",
   "id": "e38efe6e",
   "metadata": {},
   "source": [
    "## Control VS Tamaño"
   ]
  },
  {
   "cell_type": "code",
   "execution_count": 109,
   "id": "ed70d05e",
   "metadata": {},
   "outputs": [],
   "source": [
    "x=np.linspace(0.7, 0.9, 1000)\n",
    "\n",
    "def plot(betas, nombres):\n",
    "    \n",
    "    for bet, nom in zip(betas, nombres):\n",
    "        \n",
    "        y=bet.pdf(x)\n",
    "        y_media=bet.mean()\n",
    "        y_std=bet.std()\n",
    "        \n",
    "        plt.plot(x, y, label='{}, tasa de conv: {:.6f} $\\pm$ {:.10f}'.format(nom, y_media, y_std))\n",
    "        plt.yticks([])\n",
    "        \n",
    "    plt.legend()\n",
    "    plt.show();"
   ]
  },
  {
   "cell_type": "code",
   "execution_count": 110,
   "id": "718083e9",
   "metadata": {},
   "outputs": [
    {
     "data": {
      "image/png": "[encoded data removed]",
      "text/plain": [
       "<Figure size 432x288 with 1 Axes>"
      ]
     },
     "metadata": {
      "needs_background": "light"
     },
     "output_type": "display_data"
    }
   ],
   "source": [
    "plot([beta_control_exito, beta_tamaño_exito], ['Control', 'Tamaño'])"
   ]
  },
  {
   "cell_type": "code",
   "execution_count": 111,
   "id": "0e15905c",
   "metadata": {},
   "outputs": [
    {
     "data": {
      "text/plain": [
       "0.8931310790867154"
      ]
     },
     "execution_count": 111,
     "metadata": {},
     "output_type": "execute_result"
    }
   ],
   "source": [
    "prob_exito_vstamaño=betainc(len(tamaño_exito_si), len(tamaño_exito_no), 0.78, 1, regularized=True)\n",
    "\n",
    "prob_exito_vstamaño=float(prob_exito_vstamaño)\n",
    "\n",
    "prob_exito_vstamaño"
   ]
  },
  {
   "cell_type": "code",
   "execution_count": 115,
   "id": "571e0292",
   "metadata": {},
   "outputs": [],
   "source": [
    "salto_exito=(beta_tamaño_exito.mean() - beta_control_exito.mean())/beta_control_exito.mean()"
   ]
  },
  {
   "cell_type": "code",
   "execution_count": 124,
   "id": "343be75c",
   "metadata": {},
   "outputs": [
    {
     "data": {
      "text/plain": [
       "'Ha mejorado el test en un 25.0 por ciento comparado con el grupo control con una probabilidad de 89.313 por ciento'"
      ]
     },
     "execution_count": 124,
     "metadata": {},
     "output_type": "execute_result"
    }
   ],
   "source": [
    "f\"Ha mejorado el test en un {(salto_exito*100).round()} por ciento comparado con el grupo control con una probabilidad de {round(prob_exito_vstamaño, 5)*100} por ciento\""
   ]
  },
  {
   "cell_type": "code",
   "execution_count": 129,
   "id": "39f22760",
   "metadata": {},
   "outputs": [],
   "source": [
    "x=np.linspace(0.6, 0.9, 1000)\n",
    "\n",
    "def plot(betas, nombres):\n",
    "    \n",
    "    for bet, nom in zip(betas, nombres):\n",
    "        \n",
    "        y=bet.pdf(x)\n",
    "        y_media=bet.mean()\n",
    "        y_std=bet.std()\n",
    "        \n",
    "        plt.plot(x, y, label='{}, tasa de conv: {:.6f} $\\pm$ {:.10f}'.format(nom, y_media, y_std))\n",
    "        plt.yticks([])\n",
    "        \n",
    "    plt.legend()\n",
    "    plt.show();"
   ]
  },
  {
   "cell_type": "code",
   "execution_count": 130,
   "id": "27da5650",
   "metadata": {},
   "outputs": [
    {
     "data": {
      "image/png": "[encoded data removed]",
      "text/plain": [
       "<Figure size 432x288 with 1 Axes>"
      ]
     },
     "metadata": {
      "needs_background": "light"
     },
     "output_type": "display_data"
    }
   ],
   "source": [
    "plot([beta_control_tiempo, beta_tamaño_tiempo], ['Control', 'Tamaño'])"
   ]
  },
  {
   "cell_type": "code",
   "execution_count": 131,
   "id": "f39f78bf",
   "metadata": {},
   "outputs": [
    {
     "data": {
      "text/plain": [
       "0.9334595892249206"
      ]
     },
     "execution_count": 131,
     "metadata": {},
     "output_type": "execute_result"
    }
   ],
   "source": [
    "prob_tiempo_vstamaño=betainc(len(tamaño_tiempo_rapido), len(tamaño_tiempo_lento), 0.74, 1, regularized=True)\n",
    "\n",
    "prob_tiempo_vstamaño=float(prob_tiempo_vstamaño)\n",
    "\n",
    "prob_tiempo_vstamaño"
   ]
  },
  {
   "cell_type": "code",
   "execution_count": 132,
   "id": "12c7250c",
   "metadata": {},
   "outputs": [],
   "source": [
    "salto_tiempo=(beta_tamaño_tiempo.mean() - beta_control_tiempo.mean())/beta_control_tiempo.mean()"
   ]
  },
  {
   "cell_type": "code",
   "execution_count": 136,
   "id": "0f9c0f67",
   "metadata": {},
   "outputs": [
    {
     "data": {
      "text/plain": [
       "'Ha mejorado el test en un 42.86 por ciento comparado con el grupo control con una probabilidad de 93.35 por ciento'"
      ]
     },
     "execution_count": 136,
     "metadata": {},
     "output_type": "execute_result"
    }
   ],
   "source": [
    "f\"Ha mejorado el test en un {(salto_tiempo*100).round(2)} por ciento comparado con el grupo control con una probabilidad de {round(prob_tiempo_vstamaño, 4)*100} por ciento\""
   ]
  },
  {
   "cell_type": "markdown",
   "id": "fde07295",
   "metadata": {},
   "source": [
    "## Variables color"
   ]
  },
  {
   "cell_type": "code",
   "execution_count": 138,
   "id": "d277ac33",
   "metadata": {},
   "outputs": [],
   "source": [
    "color = pd.read_csv(\"color.csv\")"
   ]
  },
  {
   "cell_type": "code",
   "execution_count": 139,
   "id": "d6e1cc32",
   "metadata": {},
   "outputs": [],
   "source": [
    "color_exito_no = color[color.Exito == \"no\"]"
   ]
  },
  {
   "cell_type": "code",
   "execution_count": 140,
   "id": "a14b3d84",
   "metadata": {},
   "outputs": [],
   "source": [
    "color_exito_si = color[color.Exito == \"si\"]"
   ]
  },
  {
   "cell_type": "code",
   "execution_count": 141,
   "id": "f75e9f5c",
   "metadata": {},
   "outputs": [],
   "source": [
    "color[\"Tiempo_cat\"] = [\"lento\" if i >= 81 else \"rápido\" for i in color.Tiempo]"
   ]
  },
  {
   "cell_type": "code",
   "execution_count": 148,
   "id": "9870bc4e",
   "metadata": {},
   "outputs": [
    {
     "data": {
      "text/html": [
       "<div>\n",
       "<style scoped>\n",
       "    .dataframe tbody tr th:only-of-type {\n",
       "        vertical-align: middle;\n",
       "    }\n",
       "\n",
       "    .dataframe tbody tr th {\n",
       "        vertical-align: top;\n",
       "    }\n",
       "\n",
       "    .dataframe thead th {\n",
       "        text-align: right;\n",
       "    }\n",
       "</style>\n",
       "<table border=\"1\" class=\"dataframe\">\n",
       "  <thead>\n",
       "    <tr style=\"text-align: right;\">\n",
       "      <th></th>\n",
       "      <th>Prueba</th>\n",
       "      <th>Scroll</th>\n",
       "      <th>Exito</th>\n",
       "      <th>Ruta_1_Reco</th>\n",
       "      <th>Ruta_2_Quizz</th>\n",
       "      <th>Tiempo</th>\n",
       "      <th>Tiempo_cat</th>\n",
       "    </tr>\n",
       "  </thead>\n",
       "  <tbody>\n",
       "    <tr>\n",
       "      <th>0</th>\n",
       "      <td>Test_1</td>\n",
       "      <td>no</td>\n",
       "      <td>si</td>\n",
       "      <td>si</td>\n",
       "      <td>no</td>\n",
       "      <td>120</td>\n",
       "      <td>lento</td>\n",
       "    </tr>\n",
       "    <tr>\n",
       "      <th>1</th>\n",
       "      <td>Test_2</td>\n",
       "      <td>si</td>\n",
       "      <td>si</td>\n",
       "      <td>no</td>\n",
       "      <td>si</td>\n",
       "      <td>40</td>\n",
       "      <td>rápido</td>\n",
       "    </tr>\n",
       "    <tr>\n",
       "      <th>2</th>\n",
       "      <td>Test_3</td>\n",
       "      <td>no</td>\n",
       "      <td>si</td>\n",
       "      <td>si</td>\n",
       "      <td>no</td>\n",
       "      <td>25</td>\n",
       "      <td>rápido</td>\n",
       "    </tr>\n",
       "    <tr>\n",
       "      <th>3</th>\n",
       "      <td>Test_4</td>\n",
       "      <td>si</td>\n",
       "      <td>si</td>\n",
       "      <td>no</td>\n",
       "      <td>si</td>\n",
       "      <td>49</td>\n",
       "      <td>rápido</td>\n",
       "    </tr>\n",
       "    <tr>\n",
       "      <th>4</th>\n",
       "      <td>Test_5</td>\n",
       "      <td>si</td>\n",
       "      <td>si</td>\n",
       "      <td>si</td>\n",
       "      <td>no</td>\n",
       "      <td>70</td>\n",
       "      <td>rápido</td>\n",
       "    </tr>\n",
       "    <tr>\n",
       "      <th>5</th>\n",
       "      <td>Test_6</td>\n",
       "      <td>no</td>\n",
       "      <td>si</td>\n",
       "      <td>si</td>\n",
       "      <td>no</td>\n",
       "      <td>25</td>\n",
       "      <td>rápido</td>\n",
       "    </tr>\n",
       "    <tr>\n",
       "      <th>6</th>\n",
       "      <td>Test_7</td>\n",
       "      <td>no</td>\n",
       "      <td>si</td>\n",
       "      <td>si</td>\n",
       "      <td>no</td>\n",
       "      <td>18</td>\n",
       "      <td>rápido</td>\n",
       "    </tr>\n",
       "    <tr>\n",
       "      <th>7</th>\n",
       "      <td>Test_8</td>\n",
       "      <td>si</td>\n",
       "      <td>si</td>\n",
       "      <td>no</td>\n",
       "      <td>si</td>\n",
       "      <td>120</td>\n",
       "      <td>lento</td>\n",
       "    </tr>\n",
       "    <tr>\n",
       "      <th>8</th>\n",
       "      <td>Test_9</td>\n",
       "      <td>si</td>\n",
       "      <td>si</td>\n",
       "      <td>no</td>\n",
       "      <td>si</td>\n",
       "      <td>50</td>\n",
       "      <td>rápido</td>\n",
       "    </tr>\n",
       "    <tr>\n",
       "      <th>9</th>\n",
       "      <td>Test_10</td>\n",
       "      <td>si</td>\n",
       "      <td>si</td>\n",
       "      <td>si</td>\n",
       "      <td>no</td>\n",
       "      <td>69</td>\n",
       "      <td>rápido</td>\n",
       "    </tr>\n",
       "  </tbody>\n",
       "</table>\n",
       "</div>"
      ],
      "text/plain": [
       "    Prueba Scroll Exito Ruta_1_Reco Ruta_2_Quizz  Tiempo Tiempo_cat\n",
       "0   Test_1     no    si          si           no     120      lento\n",
       "1   Test_2     si    si          no           si      40     rápido\n",
       "2   Test_3     no    si          si           no      25     rápido\n",
       "3   Test_4     si    si          no           si      49     rápido\n",
       "4   Test_5     si    si          si           no      70     rápido\n",
       "5   Test_6     no    si          si           no      25     rápido\n",
       "6   Test_7     no    si          si           no      18     rápido\n",
       "7   Test_8     si    si          no           si     120      lento\n",
       "8   Test_9     si    si          no           si      50     rápido\n",
       "9  Test_10     si    si          si           no      69     rápido"
      ]
     },
     "execution_count": 148,
     "metadata": {},
     "output_type": "execute_result"
    }
   ],
   "source": [
    "color.head(10)"
   ]
  },
  {
   "cell_type": "code",
   "execution_count": 143,
   "id": "eab8375c",
   "metadata": {},
   "outputs": [],
   "source": [
    "color_tiempo_rapido = color[color.Tiempo_cat == \"rápido\"]"
   ]
  },
  {
   "cell_type": "code",
   "execution_count": 144,
   "id": "1817ed59",
   "metadata": {},
   "outputs": [],
   "source": [
    "color_tiempo_lento = color[color.Tiempo_cat == \"lento\"]"
   ]
  },
  {
   "cell_type": "code",
   "execution_count": 146,
   "id": "94e93f4e",
   "metadata": {},
   "outputs": [],
   "source": [
    "beta_color_exito = beta(len(color_exito_si) + 1, len(color_exito_no) + 1)"
   ]
  },
  {
   "cell_type": "code",
   "execution_count": 147,
   "id": "a61a3e5f",
   "metadata": {},
   "outputs": [],
   "source": [
    "beta_color_tiempo = beta(len(color_tiempo_rapido) + 1, len(color_tiempo_lento) + 1)"
   ]
  },
  {
   "cell_type": "markdown",
   "id": "e7ba1831",
   "metadata": {},
   "source": [
    "## Color VS Tamaño"
   ]
  },
  {
   "cell_type": "code",
   "execution_count": 153,
   "id": "25c333c5",
   "metadata": {},
   "outputs": [],
   "source": [
    "x=np.linspace(0.8, 0.9, 1000)\n",
    "\n",
    "def plot(betas, nombres):\n",
    "    \n",
    "    for bet, nom in zip(betas, nombres):\n",
    "        \n",
    "        y=bet.pdf(x)\n",
    "        y_media=bet.mean()\n",
    "        y_std=bet.std()\n",
    "        \n",
    "        plt.plot(x, y, label='{}, tasa de conv: {:.6f} $\\pm$ {:.10f}'.format(nom, y_media, y_std))\n",
    "        plt.yticks([])\n",
    "        \n",
    "    plt.legend()\n",
    "    plt.show();"
   ]
  },
  {
   "cell_type": "code",
   "execution_count": 154,
   "id": "2e5b70f3",
   "metadata": {},
   "outputs": [
    {
     "data": {
      "image/png": "[encoded data removed]",
      "text/plain": [
       "<Figure size 432x288 with 1 Axes>"
      ]
     },
     "metadata": {
      "needs_background": "light"
     },
     "output_type": "display_data"
    }
   ],
   "source": [
    "plot([beta_control_exito, beta_color_exito], ['Control', 'Tamaño'])"
   ]
  },
  {
   "cell_type": "code",
   "execution_count": 195,
   "id": "8bc6da30",
   "metadata": {},
   "outputs": [
    {
     "data": {
      "text/plain": [
       "nan"
      ]
     },
     "execution_count": 195,
     "metadata": {},
     "output_type": "execute_result"
    }
   ],
   "source": [
    "prob_exito_vscolor=betainc(len(color_exito_si), len(color_exito_no), 0.82, 1, regularized=True)\n",
    "\n",
    "prob_exito_vscolor = float(prob_exito_vscolor)\n",
    "\n",
    "prob_exito_vscolor"
   ]
  },
  {
   "cell_type": "code",
   "execution_count": 180,
   "id": "e052e20a",
   "metadata": {},
   "outputs": [],
   "source": [
    "salto_exito_c=(beta_color_exito.mean() - beta_control_exito.mean())/beta_control_exito.mean()"
   ]
  },
  {
   "cell_type": "code",
   "execution_count": 189,
   "id": "27445bda",
   "metadata": {},
   "outputs": [
    {
     "data": {
      "text/plain": [
       "'Ha mejorado el test en un 37.5 por ciento comparado con el grupo control con una probabilidad de nan por ciento'"
      ]
     },
     "execution_count": 189,
     "metadata": {},
     "output_type": "execute_result"
    }
   ],
   "source": [
    "f\"Ha mejorado el test en un {(salto_exito_c*100).round(2)} por ciento comparado con el grupo control con una probabilidad de {prob_exito_vscolor} por ciento\""
   ]
  },
  {
   "cell_type": "code",
   "execution_count": 172,
   "id": "41b7c5c4",
   "metadata": {},
   "outputs": [],
   "source": [
    "x=np.linspace(0.65, 0.72, 1000)\n",
    "\n",
    "def plot(betas, nombres):\n",
    "    \n",
    "    for bet, nom in zip(betas, nombres):\n",
    "        \n",
    "        y=bet.pdf(x)\n",
    "        y_media=bet.mean()\n",
    "        y_std=bet.std()\n",
    "        \n",
    "        plt.plot(x, y, label='{}, tasa de conv: {:.6f} $\\pm$ {:.10f}'.format(nom, y_media, y_std))\n",
    "        plt.yticks([])\n",
    "        \n",
    "    plt.legend()\n",
    "    plt.show();"
   ]
  },
  {
   "cell_type": "code",
   "execution_count": 173,
   "id": "02203677",
   "metadata": {},
   "outputs": [
    {
     "data": {
      "image/png": "[encoded data removed]",
      "text/plain": [
       "<Figure size 432x288 with 1 Axes>"
      ]
     },
     "metadata": {
      "needs_background": "light"
     },
     "output_type": "display_data"
    }
   ],
   "source": [
    "plot([beta_control_tiempo, beta_color_tiempo], ['Control', 'Tamaño'])"
   ]
  },
  {
   "cell_type": "code",
   "execution_count": 176,
   "id": "8ec4be33",
   "metadata": {},
   "outputs": [],
   "source": [
    "prob_tiempo_vscolor=betainc(10, 0, 0.682, 1, regularized=True)\n",
    "\n",
    "prob_tiempo_vscolor = float(prob_tiempo_vscolor)"
   ]
  },
  {
   "cell_type": "code",
   "execution_count": 177,
   "id": "a42b6eca",
   "metadata": {},
   "outputs": [],
   "source": [
    "salto_tiempo_c=(beta_color_tiempo.mean() - beta_control_tiempo.mean())/beta_control_tiempo.mean()"
   ]
  },
  {
   "cell_type": "code",
   "execution_count": 178,
   "id": "1cf0cff7",
   "metadata": {},
   "outputs": [
    {
     "data": {
      "text/plain": [
       "'Ha mejorado el test en un 28.57 por ciento comparado con el grupo control con una probabilidad de nan por ciento'"
      ]
     },
     "execution_count": 178,
     "metadata": {},
     "output_type": "execute_result"
    }
   ],
   "source": [
    "f\"Ha mejorado el test en un {(salto_tiempo_c*100).round(2)} por ciento comparado con el grupo control con una probabilidad de {round(prob_tiempo_vscolor, 4)*100} por ciento\""
   ]
  },
  {
   "cell_type": "markdown",
   "id": "4278abcb",
   "metadata": {},
   "source": [
    "## Variable banner"
   ]
  },
  {
   "cell_type": "code",
   "execution_count": 196,
   "id": "ccfa902e",
   "metadata": {},
   "outputs": [],
   "source": [
    "banner = pd.read_csv(\"banner.csv\")"
   ]
  },
  {
   "cell_type": "code",
   "execution_count": 197,
   "id": "5eaadc4e",
   "metadata": {},
   "outputs": [],
   "source": [
    "banner[\"Tiempo_cat\"] = [\"lento\" if i >= 81 else \"rápido\" for i in banner.Tiempo]"
   ]
  },
  {
   "cell_type": "code",
   "execution_count": 200,
   "id": "51e7d810",
   "metadata": {},
   "outputs": [
    {
     "data": {
      "text/html": [
       "<div>\n",
       "<style scoped>\n",
       "    .dataframe tbody tr th:only-of-type {\n",
       "        vertical-align: middle;\n",
       "    }\n",
       "\n",
       "    .dataframe tbody tr th {\n",
       "        vertical-align: top;\n",
       "    }\n",
       "\n",
       "    .dataframe thead th {\n",
       "        text-align: right;\n",
       "    }\n",
       "</style>\n",
       "<table border=\"1\" class=\"dataframe\">\n",
       "  <thead>\n",
       "    <tr style=\"text-align: right;\">\n",
       "      <th></th>\n",
       "      <th>Prueba</th>\n",
       "      <th>Scroll</th>\n",
       "      <th>Exito</th>\n",
       "      <th>Ruta_1_Reco</th>\n",
       "      <th>Ruta_2_Quizz</th>\n",
       "      <th>Tiempo</th>\n",
       "      <th>Tiempo_cat</th>\n",
       "    </tr>\n",
       "  </thead>\n",
       "  <tbody>\n",
       "    <tr>\n",
       "      <th>0</th>\n",
       "      <td>Test_1</td>\n",
       "      <td>si</td>\n",
       "      <td>si</td>\n",
       "      <td>no</td>\n",
       "      <td>si</td>\n",
       "      <td>28</td>\n",
       "      <td>rápido</td>\n",
       "    </tr>\n",
       "    <tr>\n",
       "      <th>1</th>\n",
       "      <td>Test_2</td>\n",
       "      <td>si</td>\n",
       "      <td>si</td>\n",
       "      <td>no</td>\n",
       "      <td>si</td>\n",
       "      <td>30</td>\n",
       "      <td>rápido</td>\n",
       "    </tr>\n",
       "    <tr>\n",
       "      <th>2</th>\n",
       "      <td>Test_3</td>\n",
       "      <td>si</td>\n",
       "      <td>no</td>\n",
       "      <td>si</td>\n",
       "      <td>no</td>\n",
       "      <td>65</td>\n",
       "      <td>rápido</td>\n",
       "    </tr>\n",
       "    <tr>\n",
       "      <th>3</th>\n",
       "      <td>Test_4</td>\n",
       "      <td>si</td>\n",
       "      <td>si</td>\n",
       "      <td>no</td>\n",
       "      <td>si</td>\n",
       "      <td>49</td>\n",
       "      <td>rápido</td>\n",
       "    </tr>\n",
       "    <tr>\n",
       "      <th>4</th>\n",
       "      <td>Test_5</td>\n",
       "      <td>si</td>\n",
       "      <td>si</td>\n",
       "      <td>no</td>\n",
       "      <td>si</td>\n",
       "      <td>30</td>\n",
       "      <td>rápido</td>\n",
       "    </tr>\n",
       "    <tr>\n",
       "      <th>5</th>\n",
       "      <td>Test_6</td>\n",
       "      <td>no</td>\n",
       "      <td>si</td>\n",
       "      <td>si</td>\n",
       "      <td>no</td>\n",
       "      <td>19</td>\n",
       "      <td>rápido</td>\n",
       "    </tr>\n",
       "    <tr>\n",
       "      <th>6</th>\n",
       "      <td>Test_7</td>\n",
       "      <td>si</td>\n",
       "      <td>si</td>\n",
       "      <td>no</td>\n",
       "      <td>si</td>\n",
       "      <td>19</td>\n",
       "      <td>rápido</td>\n",
       "    </tr>\n",
       "    <tr>\n",
       "      <th>7</th>\n",
       "      <td>Test_8</td>\n",
       "      <td>si</td>\n",
       "      <td>si</td>\n",
       "      <td>no</td>\n",
       "      <td>si</td>\n",
       "      <td>36</td>\n",
       "      <td>rápido</td>\n",
       "    </tr>\n",
       "    <tr>\n",
       "      <th>8</th>\n",
       "      <td>Test_9</td>\n",
       "      <td>no</td>\n",
       "      <td>si</td>\n",
       "      <td>si</td>\n",
       "      <td>no</td>\n",
       "      <td>33</td>\n",
       "      <td>rápido</td>\n",
       "    </tr>\n",
       "  </tbody>\n",
       "</table>\n",
       "</div>"
      ],
      "text/plain": [
       "   Prueba Scroll Exito Ruta_1_Reco Ruta_2_Quizz  Tiempo Tiempo_cat\n",
       "0  Test_1     si    si          no           si      28     rápido\n",
       "1  Test_2     si    si          no           si      30     rápido\n",
       "2  Test_3     si    no          si           no      65     rápido\n",
       "3  Test_4     si    si          no           si      49     rápido\n",
       "4  Test_5     si    si          no           si      30     rápido\n",
       "5  Test_6     no    si          si           no      19     rápido\n",
       "6  Test_7     si    si          no           si      19     rápido\n",
       "7  Test_8     si    si          no           si      36     rápido\n",
       "8  Test_9     no    si          si           no      33     rápido"
      ]
     },
     "execution_count": 200,
     "metadata": {},
     "output_type": "execute_result"
    }
   ],
   "source": [
    "banner.head(10)"
   ]
  },
  {
   "cell_type": "code",
   "execution_count": 198,
   "id": "d80c5cd9",
   "metadata": {},
   "outputs": [],
   "source": [
    "banner_exito_no = banner[banner.Exito == \"no\"]"
   ]
  },
  {
   "cell_type": "code",
   "execution_count": 199,
   "id": "807778bb",
   "metadata": {},
   "outputs": [],
   "source": [
    "banner_exito_si = banner[banner.Exito == \"si\"]"
   ]
  },
  {
   "cell_type": "code",
   "execution_count": 201,
   "id": "adfbbe22",
   "metadata": {},
   "outputs": [],
   "source": [
    "banner_tiempo_rapido = banner[banner.Tiempo_cat == \"rápido\"]"
   ]
  },
  {
   "cell_type": "code",
   "execution_count": 202,
   "id": "f375e42a",
   "metadata": {},
   "outputs": [],
   "source": [
    "banner_tiempo_lento = banner[banner.Tiempo_cat == \"lento\"]"
   ]
  },
  {
   "cell_type": "code",
   "execution_count": 203,
   "id": "bc7957fc",
   "metadata": {},
   "outputs": [],
   "source": [
    "beta_banner_exito = beta(len(banner_exito_si) + 1, len(banner_exito_no) + 1)"
   ]
  },
  {
   "cell_type": "code",
   "execution_count": 204,
   "id": "02f9afd7",
   "metadata": {},
   "outputs": [],
   "source": [
    "beta_banner_tiempo = beta(len(banner_tiempo_rapido) + 1, len(banner_tiempo_lento) + 1)"
   ]
  },
  {
   "cell_type": "markdown",
   "id": "ecffaf34",
   "metadata": {},
   "source": [
    "## Banner VS Tiempo"
   ]
  },
  {
   "cell_type": "code",
   "execution_count": 208,
   "id": "2214d305",
   "metadata": {},
   "outputs": [],
   "source": [
    "x=np.linspace(0.7, 0.9, 1000)\n",
    "\n",
    "def plot(betas, nombres):\n",
    "    \n",
    "    for bet, nom in zip(betas, nombres):\n",
    "        \n",
    "        y=bet.pdf(x)\n",
    "        y_media=bet.mean()\n",
    "        y_std=bet.std()\n",
    "        \n",
    "        plt.plot(x, y, label='{}, tasa de conv: {:.6f} $\\pm$ {:.10f}'.format(nom, y_media, y_std))\n",
    "        plt.yticks([])\n",
    "        \n",
    "    plt.legend()\n",
    "    plt.show();"
   ]
  },
  {
   "cell_type": "code",
   "execution_count": 209,
   "id": "54c1803b",
   "metadata": {},
   "outputs": [
    {
     "data": {
      "image/png": "[encoded data removed]",
      "text/plain": [
       "<Figure size 432x288 with 1 Axes>"
      ]
     },
     "metadata": {
      "needs_background": "light"
     },
     "output_type": "display_data"
    }
   ],
   "source": [
    "plot([beta_control_exito, beta_banner_exito], ['Control', 'Tamaño'])"
   ]
  },
  {
   "cell_type": "code",
   "execution_count": 213,
   "id": "2afc5076",
   "metadata": {},
   "outputs": [],
   "source": [
    "prob_exito_vsbanner=betainc(len(banner_exito_si), len(banner_exito_no), 0.775, 1, regularized=True)\n",
    "\n",
    "prob_exito_vsbanner = float(prob_exito_vsbanner)"
   ]
  },
  {
   "cell_type": "code",
   "execution_count": 214,
   "id": "1aaa6614",
   "metadata": {},
   "outputs": [],
   "source": [
    "salto_exito_b=(beta_banner_exito.mean() - beta_control_exito.mean())/beta_control_exito.mean()"
   ]
  },
  {
   "cell_type": "code",
   "execution_count": 215,
   "id": "0564c920",
   "metadata": {},
   "outputs": [
    {
     "data": {
      "text/plain": [
       "'Ha mejorado el test en un 22.73 por ciento comparado con el grupo control con una probabilidad de 0.8698591556639099 por ciento'"
      ]
     },
     "execution_count": 215,
     "metadata": {},
     "output_type": "execute_result"
    }
   ],
   "source": [
    "f\"Ha mejorado el test en un {(salto_exito_b*100).round(2)} por ciento comparado con el grupo control con una probabilidad de {prob_exito_vsbanner} por ciento\""
   ]
  }
 ],
 "metadata": {
  "kernelspec": {
   "display_name": "Python 3 (ipykernel)",
   "language": "python",
   "name": "python3"
  },
  "language_info": {
   "codemirror_mode": {
    "name": "ipython",
    "version": 3
   },
   "file_extension": ".py",
   "mimetype": "text/x-python",
   "name": "python",
   "nbconvert_exporter": "python",
   "pygments_lexer": "ipython3",
   "version": "3.8.13"
  }
 },
 "nbformat": 4,
 "nbformat_minor": 5
}
